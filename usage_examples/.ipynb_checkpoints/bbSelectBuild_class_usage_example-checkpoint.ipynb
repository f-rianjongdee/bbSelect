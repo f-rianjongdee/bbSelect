{
 "cells": [
  {
   "cell_type": "markdown",
   "id": "persistent-transmission",
   "metadata": {},
   "source": [
    " ## Notes / to-do"
   ]
  },
  {
   "cell_type": "code",
   "execution_count": 1,
   "id": "careful-mortality",
   "metadata": {},
   "outputs": [],
   "source": [
    "### To do\n",
    "    # Remove non-rdkit method."
   ]
  },
  {
   "cell_type": "code",
   "execution_count": 2,
   "id": "electoral-eclipse",
   "metadata": {},
   "outputs": [],
   "source": [
    "from bbSelectBuild import *"
   ]
  },
  {
   "cell_type": "code",
   "execution_count": 3,
   "id": "immediate-headline",
   "metadata": {
    "tags": []
   },
   "outputs": [
    {
     "name": "stderr",
     "output_type": "stream",
     "text": [
      "2024-02-08 10:45:04,145 - root - INFO - loading smiles file\n",
      "2024-02-08 10:45:04,196 - root - INFO - loading clipped smiles file\n",
      "2024-02-08 10:45:07,180 - root - INFO - 19280 compounds clipped in 2.9831931591033936 seconds\n",
      "2024-02-08 10:45:07,181 - root - INFO - clipped smiles saved at ./data/enamine_acids/enamine_acids/enamine_acids_filtered_clipped.tsv\n"
     ]
    }
   ],
   "source": [
    "## mGAP parameters\n",
    "cell_size = 1\n",
    "num_cells = 20\n",
    "ncpu = 14\n",
    "\n",
    "rxn_smarts = '[C:1](=[O:2])[OH]>>[C:1](=[O:2])[15CH3]'\n",
    "smiles_file = './data/enamine_acids/enamine_acids/enamine_acids_filtered.csv'\n",
    "smiles_file_sep = ','\n",
    "align_mols_sdf_path = './data/enamine_acids/enamine_acids/enamine_acids_filtered_aligned.sdf'\n",
    "output_root = './data/enamine_acids/enamine_acids/enamine_acids_filtered_omega'\n",
    "\n",
    "bbGAP_1 = bbGAP(cell_size = cell_size, \n",
    "                num_cells = num_cells,\n",
    "                pharmacophore_family_dict = 'default', \n",
    "                ncpu = ncpu)\n",
    "\n",
    "# Load in the smiles file\n",
    "smiles_file = smiles_file\n",
    "logging.info('loading smiles file')\n",
    "bbGAP_1.load_smiles_file(smiles_file, sep = smiles_file_sep)\n",
    "\n",
    "# Clip the compounds. If this has already been done they can be loaded in seperately (see below)\n",
    "logging.info('loading clipped smiles file')\n",
    "bbGAP_1.enumerate_clipped_smiles(rxn_smarts)\n",
    "#bbGAP_1.load_clipped_smiles_file('./data/enamine_acids/enamine_acids/enamine_acids_filtered_clipped.tsv', sep = '\\t')"
   ]
  },
  {
   "cell_type": "code",
   "execution_count": 4,
   "id": "absent-backup",
   "metadata": {},
   "outputs": [
    {
     "name": "stderr",
     "output_type": "stream",
     "text": [
      "2024-02-08 10:45:07,210 - root - INFO - Attempting to run the following command in shell:\n",
      "module load openeye; omega2 -flipper true -in ./data/enamine_acids/enamine_acids/enamine_acids_filtered_clipped.tsv -out ./data/enamine_acids/enamine_acids/enamine_acids_filtered_clipped_conformers.sdf -mpi_np 14\n",
      "2024-02-08 10:47:05,561 - root - INFO - conformer generation with omega completed in 118.35 seconds\n",
      "2024-02-08 10:47:05,563 - root - INFO - loading conformer sdf\n",
      "2024-02-08 10:48:21,433 - root - INFO - 564192 conformers loaded in 75.86930751800537 seconds\n"
     ]
    }
   ],
   "source": [
    "# Can generate conformers inside the script or load from outside.\n",
    "# If they've already been aligned and saved, they can be loaded later and this part skipped entirely\n",
    "\n",
    "bbGAP_1.generate_conformers()\n",
    "#bbGAP_1.load_conformer_sdf('enamine_acids_filtered_clipped_conformers.sdf')"
   ]
  },
  {
   "cell_type": "code",
   "execution_count": 5,
   "id": "wicked-elephant",
   "metadata": {
    "tags": []
   },
   "outputs": [
    {
     "name": "stderr",
     "output_type": "stream",
     "text": [
      "2024-02-08 10:48:21,438 - root - INFO - aligning mols\n",
      "2024-02-08 10:48:21,440 - root - INFO - Running alignment over 14 cores\n",
      "2024-02-08 10:49:46,634 - root - INFO - 564192 compounds aligned over 14 CPU cores in 85.19387030601501 seconds\n",
      "2024-02-08 10:49:56,895 - root - INFO - writing aligned mols to ./data/enamine_acids/enamine_acids/enamine_acids_filtered_aligned.sdf\n",
      "2024-02-08 10:50:35,445 - root - INFO - wrote aligned mols in 38.55 seconds\n"
     ]
    }
   ],
   "source": [
    "# Align molecules. Can also be loaded in if already performed\n",
    "\n",
    "logging.info('aligning mols')\n",
    "bbGAP_1.align_mols(output_file_path = align_mols_sdf_path)\n",
    "\n",
    "#bbGAP_1.load_aligned_conformer_sdf('./data/enamine_acids/enamine_acids/enamine_acids_filtered_aligned.sdf')"
   ]
  },
  {
   "cell_type": "code",
   "execution_count": 6,
   "id": "boolean-regard",
   "metadata": {},
   "outputs": [
    {
     "name": "stderr",
     "output_type": "stream",
     "text": [
      "2024-02-08 10:50:35,494 - root - INFO - getting pharmacophore_features\n",
      "2024-02-08 10:50:35,496 - root - INFO - Capturing pharmacophores over 14 cores\n",
      "2024-02-08 10:52:08,928 - root - INFO - 564192 pharmacophores captured over 14 cores in 93.43219709396362 seconds\n"
     ]
    }
   ],
   "source": [
    "logging.info('getting pharmacophore_features')\n",
    "bbGAP_1.get_pharmacophore_features()"
   ]
  },
  {
   "cell_type": "code",
   "execution_count": 7,
   "id": "prostate-harmony",
   "metadata": {},
   "outputs": [
    {
     "name": "stderr",
     "output_type": "stream",
     "text": [
      "2024-02-08 10:52:08,972 - root - INFO - generating fingerprints\n",
      "2024-02-08 10:52:13,296 - root - INFO - 19275 fingerprints generated over 1 CPU core in 4.321775197982788 seconds\n"
     ]
    }
   ],
   "source": [
    "logging.info('generating fingerprints')\n",
    "bbGAP_1.get_fingerprint_dictionary()"
   ]
  },
  {
   "cell_type": "code",
   "execution_count": 8,
   "id": "seven-automation",
   "metadata": {},
   "outputs": [
    {
     "name": "stderr",
     "output_type": "stream",
     "text": [
      "2024-02-08 10:52:13,307 - root - INFO - writing bbgap DB\n",
      "2024-02-08 10:52:18,831 - root - INFO - 19275 fingerprints written in 5.521575450897217 seconds\n",
      "2024-02-08 10:52:18,832 - root - INFO - Writing reference file\n",
      "2024-02-08 10:52:22,771 - root - INFO - Reference file written\n"
     ]
    }
   ],
   "source": [
    "logging.info('writing bbgap DB')\n",
    "bbGAP_1.write_bbgap_DB(output_root)"
   ]
  }
 ],
 "metadata": {
  "kernelspec": {
   "display_name": "Environment (conda_a_francesco_env_22)",
   "language": "python",
   "name": "conda_a_francesco_env_22"
  },
  "language_info": {
   "codemirror_mode": {
    "name": "ipython",
    "version": 3
   },
   "file_extension": ".py",
   "mimetype": "text/x-python",
   "name": "python",
   "nbconvert_exporter": "python",
   "pygments_lexer": "ipython3",
   "version": "3.9.12"
  }
 },
 "nbformat": 4,
 "nbformat_minor": 5
}
