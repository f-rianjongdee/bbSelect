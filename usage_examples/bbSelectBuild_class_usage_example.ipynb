{
 "cells": [
  {
   "cell_type": "markdown",
   "id": "aggregate-moore",
   "metadata": {},
   "source": [
    "## bbSelectBuild usage example\n",
    "- bbSelectBuild is a package for building the bbSelect databases\n",
    "- It can be used quickly (see full_usage_example.ipynb) or each step can be run separately, as exemplified below. "
   ]
  },
  {
   "cell_type": "code",
   "execution_count": 1,
   "id": "genetic-delhi",
   "metadata": {},
   "outputs": [],
   "source": [
    "import sys\n",
    "import os\n",
    "import logging\n",
    "sys.path.append('../')\n",
    "from bbSelectBuild import bbSelectDBbuilder"
   ]
  },
  {
   "cell_type": "code",
   "execution_count": 2,
   "id": "charming-decade",
   "metadata": {
    "tags": []
   },
   "outputs": [
    {
     "name": "stderr",
     "output_type": "stream",
     "text": [
      "2024-02-20 17:01:51,001 - root - INFO - loading smiles file\n",
      "2024-02-20 17:01:51,060 - root - INFO - loading clipped smiles file\n"
     ]
    }
   ],
   "source": [
    "## mGAP parameters\n",
    "cell_size = 1\n",
    "num_cells = 20\n",
    "ncpu = len(os.sched_getaffinity(0)) -1\n",
    "\n",
    "rxn_smarts = '[C:1](=[O:2])[OH]>>[C:1](=[O:2])[15CH3]'\n",
    "smiles_file = '../data/enamine_acids/enamine_acids_filtered.csv'\n",
    "smiles_file_sep = ','\n",
    "align_mols_sdf_path = '../data/enamine_acids/enamine_acids_filtered_aligned_test.sdf'\n",
    "output_root = '../data/enamine_acids/enamine_acids_filtered_omega_test'\n",
    "conformer_sdf = '../data/enamine_acids/enamine_acids_filtered_clipped_conformers.sdf'\n",
    "clipped_smiles_path = '../data/enamine_acids/enamine_acids_filtered_clipped.tsv'\n",
    "\n",
    "bbSelectDB = bbSelectDBbuilder(cell_size = cell_size, \n",
    "                num_cells = num_cells,\n",
    "                pharmacophore_family_dict = 'default', \n",
    "                ncpu = ncpu)\n",
    "\n",
    "# Load in the smiles file\n",
    "smiles_file = smiles_file\n",
    "logging.info('loading smiles file')\n",
    "bbSelectDB.load_smiles_file(smiles_file, sep = smiles_file_sep)\n",
    "\n",
    "# Clip the compounds. If this has already been done they can be loaded in seperately (see below)\n",
    "logging.info('loading clipped smiles file')\n",
    "#bbSelectDB.enumerate_clipped_smiles(rxn_smarts)\n",
    "bbSelectDB.load_clipped_smiles_file(clipped_smiles_path, sep = '\\t')"
   ]
  },
  {
   "cell_type": "code",
   "execution_count": 3,
   "id": "radio-adams",
   "metadata": {},
   "outputs": [
    {
     "name": "stderr",
     "output_type": "stream",
     "text": [
      "2024-02-20 17:01:51,084 - root - INFO - loading conformer sdf\n",
      "2024-02-20 17:03:05,922 - root - INFO - 563029 conformers loaded in 74.83570504188538 seconds\n"
     ]
    }
   ],
   "source": [
    "# Can generate conformers inside the script or load from outside.\n",
    "# If they've already been aligned and saved, they can be loaded later and this part skipped entirely\n",
    "\n",
    "#bbSelectDB.generate_conformers()\n",
    "bbSelectDB.load_conformer_sdf(conformer_sdf)"
   ]
  },
  {
   "cell_type": "code",
   "execution_count": 4,
   "id": "induced-lincoln",
   "metadata": {
    "tags": []
   },
   "outputs": [
    {
     "name": "stderr",
     "output_type": "stream",
     "text": [
      "2024-02-20 17:03:05,929 - root - INFO - aligning mols\n",
      "2024-02-20 17:03:05,931 - root - INFO - Running alignment over 29 cores\n",
      "2024-02-20 17:04:09,305 - root - INFO - 563029 compounds aligned over 29 CPU cores in 63.37388229370117 seconds\n",
      "2024-02-20 17:04:20,425 - root - INFO - writing aligned mols to ../data/enamine_acids/enamine_acids_filtered_aligned_test.sdf\n",
      "2024-02-20 17:04:59,752 - root - INFO - wrote aligned mols in 39.33 seconds\n"
     ]
    }
   ],
   "source": [
    "# Align molecules. Can also be loaded in if already performed\n",
    "\n",
    "logging.info('aligning mols')\n",
    "bbSelectDB.align_mols(output_file_path = align_mols_sdf_path)\n",
    "\n",
    "#bbSelectDB.load_aligned_conformer_sdf('./data/enamine_acids/enamine_acids/enamine_acids_filtered_aligned.sdf')"
   ]
  },
  {
   "cell_type": "code",
   "execution_count": 5,
   "id": "competent-construction",
   "metadata": {},
   "outputs": [
    {
     "name": "stderr",
     "output_type": "stream",
     "text": [
      "2024-02-20 17:04:59,779 - root - INFO - getting pharmacophore_features\n",
      "2024-02-20 17:04:59,781 - root - INFO - Capturing pharmacophores over 29 cores\n",
      "2024-02-20 17:06:18,203 - root - INFO - 563029 pharmacophores captured over 29 cores in 78.42165303230286 seconds\n"
     ]
    }
   ],
   "source": [
    "logging.info('getting pharmacophore_features')\n",
    "bbSelectDB.get_pharmacophore_features()"
   ]
  },
  {
   "cell_type": "code",
   "execution_count": 6,
   "id": "broken-world",
   "metadata": {},
   "outputs": [
    {
     "name": "stderr",
     "output_type": "stream",
     "text": [
      "2024-02-20 17:06:18,297 - root - INFO - generating fingerprints\n",
      "2024-02-20 17:06:22,661 - root - INFO - 19275 fingerprints generated over 1 CPU core in 4.361240386962891 seconds\n"
     ]
    }
   ],
   "source": [
    "logging.info('generating fingerprints')\n",
    "bbSelectDB.get_fingerprint_dictionary()"
   ]
  },
  {
   "cell_type": "code",
   "execution_count": 8,
   "id": "prime-frequency",
   "metadata": {},
   "outputs": [
    {
     "name": "stderr",
     "output_type": "stream",
     "text": [
      "2024-02-20 17:09:51,032 - root - INFO - writing bbgap DB\n",
      "2024-02-20 17:09:56,117 - root - INFO - 19275 fingerprints written in 5.081454753875732 seconds\n",
      "2024-02-20 17:09:56,118 - root - INFO - Writing reference file\n",
      "2024-02-20 17:09:59,823 - root - INFO - Reference file written\n"
     ]
    }
   ],
   "source": [
    "logging.info('writing bbgap DB')\n",
    "bbSelectDB.write_bbSelect_DB(output_root)"
   ]
  }
 ],
 "metadata": {
  "kernelspec": {
   "display_name": "Environment (conda_a_francesco_env_22)",
   "language": "python",
   "name": "conda_a_francesco_env_22"
  },
  "language_info": {
   "codemirror_mode": {
    "name": "ipython",
    "version": 3
   },
   "file_extension": ".py",
   "mimetype": "text/x-python",
   "name": "python",
   "nbconvert_exporter": "python",
   "pygments_lexer": "ipython3",
   "version": "3.9.12"
  }
 },
 "nbformat": 4,
 "nbformat_minor": 5
}
